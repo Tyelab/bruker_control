{
 "cells": [
  {
   "cell_type": "code",
   "execution_count": 1,
   "id": "mexican-flexibility",
   "metadata": {},
   "outputs": [
    {
     "data": {
      "text/plain": [
       "array([1, 1, 0, 1, 1, 1, 1, 0, 1, 1])"
      ]
     },
     "execution_count": 1,
     "metadata": {},
     "output_type": "execute_result"
    }
   ],
   "source": [
    "import random\n",
    "import numpy as np\n",
    "\n",
    "\n",
    "trials_array\n",
    "\n",
    "def sample():\n",
    "    if random.uniform(0,1) > 0.6:\n",
    "        strobe = 0\n",
    "    else:\n",
    "        strobe = 1\n",
    "        \n",
    "    return strobe\n",
    "\n",
    "def flip_strobe(strobe):\n",
    "    if strobe == 0:\n",
    "        strobe = 1\n",
    "    else:\n",
    "        strobe = 0\n",
    "    return strobe\n",
    "\n",
    "strobes = []\n",
    "cc = 0\n",
    "for i, j in enumerate(range(0,10)):\n",
    "    strobe = sample()\n",
    "    if i == 0 and strobe == 0:\n",
    "        strobe = 1\n",
    "    \n",
    "    if cc > 3:\n",
    "        cc+=1\n",
    "        arr = np.array(strobes[-3:])\n",
    "        print(arr, np.all(arr == arr[0]), strobe)\n",
    "        if np.all(arr == arr[0]):\n",
    "            if arr[0] == 0:\n",
    "                strobe = 1\n",
    "            elif arr[0] == 1: \n",
    "                strobe = 0\n",
    "            cc = 0\n",
    "        print(cc)\n",
    "    #cc +=1\n",
    "        \n",
    "    strobes.append(strobe)\n",
    "strobes = np.array(strobes)\n",
    "strobes"
   ]
  },
  {
   "cell_type": "code",
   "execution_count": 130,
   "id": "little-salvation",
   "metadata": {},
   "outputs": [
    {
     "data": {
      "text/plain": [
       "True"
      ]
     },
     "execution_count": 130,
     "metadata": {},
     "output_type": "execute_result"
    }
   ],
   "source": [
    "strobes = [1,1,1,0,1,0,1,0,0,0]\n",
    "for i in range(1):\n",
    "    arr = strobes[-3:]\n",
    "    truth = np.all(np.array(arr) == arr[0])\n",
    "    if truth:\n",
    "        "
   ]
  },
  {
   "cell_type": "code",
   "execution_count": 131,
   "id": "dense-suicide",
   "metadata": {},
   "outputs": [
    {
     "data": {
      "text/plain": [
       "[0, 0, 0]"
      ]
     },
     "execution_count": 131,
     "metadata": {},
     "output_type": "execute_result"
    }
   ],
   "source": [
    "arr"
   ]
  }
 ],
 "metadata": {
  "kernelspec": {
   "display_name": "Python 3",
   "language": "python",
   "name": "python3"
  },
  "language_info": {
   "codemirror_mode": {
    "name": "ipython",
    "version": 3
   },
   "file_extension": ".py",
   "mimetype": "text/x-python",
   "name": "python",
   "nbconvert_exporter": "python",
   "pygments_lexer": "ipython3",
   "version": "3.9.2"
  }
 },
 "nbformat": 4,
 "nbformat_minor": 5
}
